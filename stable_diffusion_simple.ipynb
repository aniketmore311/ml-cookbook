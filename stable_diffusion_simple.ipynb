{
  "nbformat": 4,
  "nbformat_minor": 0,
  "metadata": {
    "colab": {
      "provenance": []
    },
    "kernelspec": {
      "name": "python3",
      "display_name": "Python 3"
    },
    "language_info": {
      "name": "python"
    },
    "accelerator": "GPU",
    "gpuClass": "standard"
  },
  "cells": [
    {
      "cell_type": "code",
      "execution_count": null,
      "metadata": {
        "id": "DTwZEbuNNnW0"
      },
      "outputs": [],
      "source": [
        "!pip install diffusers accelerate transformers --quiet"
      ]
    },
    {
      "cell_type": "code",
      "source": [
        "!pip install basicsr facexlib gfpgan --quiet"
      ],
      "metadata": {
        "id": "Vi-tNxftZMBK"
      },
      "execution_count": null,
      "outputs": []
    },
    {
      "cell_type": "code",
      "source": [
        "from IPython.display import Image, clear_output, HTML, FileLink\n",
        "import ipywidgets as widgets\n",
        "from diffusers import StableDiffusionPipeline, EulerDiscreteScheduler, DPMSolverMultistepScheduler\n",
        "import torch\n",
        "import requests\n",
        "import random\n",
        "import os\n",
        "from PIL import Image as PILImage\n",
        "from gfpgan import GFPGANer\n",
        "import cv2\n",
        "from basicsr.archs.rrdbnet_arch import RRDBNet\n",
        "from basicsr.utils.download_util import load_file_from_url"
      ],
      "metadata": {
        "id": "rolq8OZCU8Lm"
      },
      "execution_count": null,
      "outputs": []
    },
    {
      "cell_type": "code",
      "source": [
        "def generate_filename():\n",
        "  random_number = random.randint(100000, 999999)\n",
        "  filename = f\"{random_number}.png\"\n",
        "  return filename"
      ],
      "metadata": {
        "id": "g9YouHDnWpNe"
      },
      "execution_count": null,
      "outputs": []
    },
    {
      "cell_type": "code",
      "source": [
        "def create_pipeline(model_name):\n",
        "  pipe = StableDiffusionPipeline.from_pretrained(model_name, torch_dtype=torch.float16)\n",
        "  pipe.scheduler = EulerDiscreteScheduler.from_config(pipe.scheduler.config)\n",
        "  pipe.safety_checker = None\n",
        "  # diffusion_pipeline.enable_attention_slicing()\n",
        "  # diffusion_pipeline.enable_vae_slicing()\n",
        "  # diffusion_pipeline.enable_sequential_cpu_offload()\n",
        "  # diffusion_pipeline.enable_vae_tiling()\n",
        "  # diffusion_pipeline.enable_xformers_memory_efficient_attention()\n",
        "  pipe.to(\"cuda\")\n",
        "  return pipe"
      ],
      "metadata": {
        "id": "N_uZWhsXVybE"
      },
      "execution_count": null,
      "outputs": []
    },
    {
      "cell_type": "code",
      "source": [
        "# function to generate images\n",
        "def generate_image(pipe, prompt, negative_prompt, height, width, inference_steps, guidance_scale):\n",
        "  print(\"generating image...\")\n",
        "  seed = random.randint(1,1000000)\n",
        "  generator = torch.manual_seed(seed)\n",
        "  image = pipe(prompt=prompt, generator=generator, negative_prompt=negative_prompt,height=height,width=width, num_inference_steps=inference_steps, guidance_scale=guidance_scale).images[0]\n",
        "  filename = generate_filename();\n",
        "  image.save(filename)\n",
        "  return image, filename, seed"
      ],
      "metadata": {
        "id": "vFhqQDBgZaNH"
      },
      "execution_count": null,
      "outputs": []
    },
    {
      "cell_type": "code",
      "source": [
        "# function to restore image\n",
        "def restore_face(input_path, output_path):\n",
        "  current_dir = os.getcwd()\n",
        "  img_path = input_path\n",
        "  output_path = output_path\n",
        "  url = 'https://github.com/TencentARC/GFPGAN/releases/download/v1.3.0/GFPGANv1.3.pth'\n",
        "  # model_path = \"./GFPGANv1.3.pth\"\n",
        "  upscale = 1\n",
        "  arch = \"clean\"\n",
        "  channel_multiplier = 2\n",
        "  bg_upsampler=None\n",
        "  weight = 0.5\n",
        "  aligned = None\n",
        "  only_center_face = None\n",
        "\n",
        "  restorer = GFPGANer(\n",
        "      model_path=url,\n",
        "      upscale=upscale,\n",
        "      arch=arch,\n",
        "      channel_multiplier=channel_multiplier,\n",
        "      bg_upsampler=bg_upsampler\n",
        "  )\n",
        "\n",
        "  input_img = cv2.imread(img_path, cv2.IMREAD_COLOR)\n",
        "  # restore faces and background if necessary\n",
        "  cropped_faces, restored_faces, restored_img = restorer.enhance(\n",
        "      input_img,\n",
        "      has_aligned=aligned,\n",
        "      only_center_face=only_center_face,\n",
        "      paste_back=True,\n",
        "      weight=0.5)\n",
        "  # print(restored_img)\n",
        "  cv2.imwrite(output_path,restored_img)"
      ],
      "metadata": {
        "id": "dt8ZPlZlZGMG"
      },
      "execution_count": null,
      "outputs": []
    },
    {
      "cell_type": "code",
      "source": [
        "model_name = \"XpucT/Deliberate\""
      ],
      "metadata": {
        "id": "oklHsbXWVvAt"
      },
      "execution_count": null,
      "outputs": []
    },
    {
      "cell_type": "code",
      "source": [
        "pipe = create_pipeline(model_name)"
      ],
      "metadata": {
        "id": "Wo5-RqLKVqyk"
      },
      "execution_count": null,
      "outputs": []
    },
    {
      "cell_type": "code",
      "source": [
        "prompt = \"photo of a white lamborgini on road, city, cityscape, rain, cyberpunk\"\n",
        "# suffix = \"professional, 8k, HDR, high detail, highly detailed, high resolution, hyper realistic, photo realistic, realistic, intricate, intricate sharp details, masterpiece, award winning, trending on artstation\"\n",
        "# negative_prompt = \"deformed, distorted, disfigured, poorly drawn, bad anatomy, wrong anatomy, extra limb, missing limb, floating limbs, mutated hands and fingers, disconnected limbs, mutation, mutated, ugly, disgusting, blurry, amputation, low quality\"\n",
        "suffix = \"professional, 8k, HDR, high detail, highly detailed, high resolution, hyper realistic, photo realistic, realistic, intricate, intricate sharp details, sony camera, mirrorless, 50mm\"\n",
        "negative_prompt = \"deformed, distorted, disfigured, poorly drawn, bad anatomy, wrong anatomy, extra limb, missing limb, floating limbs, mutated hands and fingers, disconnected limbs, mutation, mutated, ugly, disgusting, blurry, amputation, low quality, low resolution\"\n",
        "\n",
        "height = 512\n",
        "width = 512\n",
        "inference_steps = 20\n",
        "guidance_scale = 8\n",
        "\n",
        "image, filename, seed = generate_image(pipe,prompt + \", \" + suffix, negative_prompt, height, width, inference_steps, guidance_scale)\n",
        "\n",
        "clear_output(wait=True)\n",
        "display(image)\n",
        "print(filename)\n",
        "print(seed)"
      ],
      "metadata": {
        "id": "LSidRO-MXEIz"
      },
      "execution_count": null,
      "outputs": []
    },
    {
      "cell_type": "code",
      "source": [
        "restore_face(filename, \"rest\"+filename)\n",
        "image = Image(\"rest\"+filename)\n",
        "display(image)"
      ],
      "metadata": {
        "id": "P73AOAkBZqz1"
      },
      "execution_count": null,
      "outputs": []
    },
    {
      "cell_type": "code",
      "source": [
        "import math\n",
        "\n",
        "num_list = []\n",
        "\n",
        "for i in range(512,2049,8):\n",
        "  num_list.append(float(i))\n",
        "\n",
        "# print(num_list)\n",
        "\n",
        "limit_volume = 800 * 800\n",
        "ratio = 16.0/9.0\n",
        "max_vol = 0\n",
        "h = 0\n",
        "w = 0\n",
        "\n",
        "for i in num_list:\n",
        "  vol = i * (i*ratio)\n",
        "  if(vol > max_vol and vol <= limit_volume):\n",
        "    max_vol = vol\n",
        "    h = i\n",
        "    w = i * ratio\n",
        "\n",
        "height_val = h\n",
        "width_val = math.floor(w / 8) * 8\n",
        "print(height_val)\n",
        "print(width_val)\n",
        "print(width_val/height_val)"
      ],
      "metadata": {
        "id": "ak3pMuK5azko"
      },
      "execution_count": null,
      "outputs": []
    },
    {
      "cell_type": "code",
      "source": [
        "ratio = 16.0/9.0\n",
        "width_num = 512\n",
        "height_num = width_num * ratio\n",
        "height_final = math.floor( height_num / 8) * 8\n",
        "print(width_num)\n",
        "print(height_final) "
      ],
      "metadata": {
        "id": "ZoXOUcv-a6IR"
      },
      "execution_count": null,
      "outputs": []
    }
  ]
}