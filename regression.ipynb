{
 "cells": [
  {
   "cell_type": "code",
   "execution_count": 2,
   "id": "17b8b20b-0c34-43d4-9b06-bec481484daa",
   "metadata": {
    "tags": []
   },
   "outputs": [],
   "source": [
    "from sklearn.datasets import fetch_california_housing\n",
    "from sklearn.ensemble import GradientBoostingRegressor\n",
    "from sklearn.model_selection import train_test_split\n",
    "from sklearn.metrics import mean_squared_error\n",
    "\n",
    "\n"
   ]
  },
  {
   "cell_type": "code",
   "execution_count": 8,
   "id": "2a7de0e0-9ed4-4795-978a-3ef5ab98594e",
   "metadata": {
    "tags": []
   },
   "outputs": [
    {
     "name": "stdout",
     "output_type": "stream",
     "text": [
      ".. _california_housing_dataset:\n",
      "\n",
      "California Housing dataset\n",
      "--------------------------\n",
      "\n",
      "**Data Set Characteristics:**\n",
      "\n",
      "    :Number of Instances: 20640\n",
      "\n",
      "    :Number of Attributes: 8 numeric, predictive attributes and the target\n",
      "\n",
      "    :Attribute Information:\n",
      "        - MedInc        median income in block group\n",
      "        - HouseAge      median house age in block group\n",
      "        - AveRooms      average number of rooms per household\n",
      "        - AveBedrms     average number of bedrooms per household\n",
      "        - Population    block group population\n",
      "        - AveOccup      average number of household members\n",
      "        - Latitude      block group latitude\n",
      "        - Longitude     block group longitude\n",
      "\n",
      "    :Missing Attribute Values: None\n",
      "\n",
      "This dataset was obtained from the StatLib repository.\n",
      "https://www.dcc.fc.up.pt/~ltorgo/Regression/cal_housing.html\n",
      "\n",
      "The target variable is the median house value for California districts,\n",
      "expressed in hundreds of thousands of dollars ($100,000).\n",
      "\n",
      "This dataset was derived from the 1990 U.S. census, using one row per census\n",
      "block group. A block group is the smallest geographical unit for which the U.S.\n",
      "Census Bureau publishes sample data (a block group typically has a population\n",
      "of 600 to 3,000 people).\n",
      "\n",
      "A household is a group of people residing within a home. Since the average\n",
      "number of rooms and bedrooms in this dataset are provided per household, these\n",
      "columns may take surprisingly large values for block groups with few households\n",
      "and many empty houses, such as vacation resorts.\n",
      "\n",
      "It can be downloaded/loaded using the\n",
      ":func:`sklearn.datasets.fetch_california_housing` function.\n",
      "\n",
      ".. topic:: References\n",
      "\n",
      "    - Pace, R. Kelley and Ronald Barry, Sparse Spatial Autoregressions,\n",
      "      Statistics and Probability Letters, 33 (1997) 291-297\n",
      "\n",
      "16512\n",
      "[[ 3.25960000e+00  3.30000000e+01  5.01765650e+00  1.00642055e+00\n",
      "   2.30000000e+03  3.69181380e+00  3.27100000e+01 -1.17030000e+02]\n",
      " [ 3.81250000e+00  4.90000000e+01  4.47354497e+00  1.04100529e+00\n",
      "   1.31400000e+03  1.73809524e+00  3.37700000e+01 -1.18160000e+02]\n",
      " [ 4.15630000e+00  4.00000000e+00  5.64583333e+00  9.85119048e-01\n",
      "   9.15000000e+02  2.72321429e+00  3.46600000e+01 -1.20480000e+02]\n",
      " [ 1.94250000e+00  3.60000000e+01  4.00281690e+00  1.03380282e+00\n",
      "   1.41800000e+03  3.99436620e+00  3.26900000e+01 -1.17110000e+02]\n",
      " [ 3.55420000e+00  4.30000000e+01  6.26842105e+00  1.13421053e+00\n",
      "   8.74000000e+02  2.30000000e+00  3.67800000e+01 -1.19800000e+02]]\n",
      "[1.03  3.821 1.726 0.934 0.965]\n"
     ]
    }
   ],
   "source": [
    "# load boston housing dataset\n",
    "boston = fetch_california_housing()\n",
    "X, y = boston.data, boston.target\n",
    "\n",
    "# split dataset into train and test sets\n",
    "X_train, X_test, y_train, y_test = train_test_split(X, y, test_size=0.2, random_state=42)\n",
    "\n",
    "print(boston.DESCR)\n",
    "print(len(X_train))\n",
    "print(X_train[:5])\n",
    "print(y_train[:5])"
   ]
  },
  {
   "cell_type": "code",
   "execution_count": 5,
   "id": "a74583f2-b172-46a3-92c7-4fa98ce49b43",
   "metadata": {
    "tags": []
   },
   "outputs": [],
   "source": [
    "# define Gradient Boosting regressor and set hyperparameters\n",
    "gb_reg = GradientBoostingRegressor(n_estimators=100, learning_rate=0.1, max_depth=3)"
   ]
  },
  {
   "cell_type": "code",
   "execution_count": 6,
   "id": "9db01e48-f78c-4910-8ffc-09882f06437d",
   "metadata": {
    "tags": []
   },
   "outputs": [
    {
     "name": "stdout",
     "output_type": "stream",
     "text": [
      "MSE: 0.2940161448268125\n"
     ]
    }
   ],
   "source": [
    "# train the regressor on the train set\n",
    "gb_reg.fit(X_train, y_train)\n",
    "\n",
    "# predict the targets of test set\n",
    "y_pred = gb_reg.predict(X_test)\n",
    "\n",
    "# calculate mean squared error\n",
    "mse = mean_squared_error(y_test, y_pred)\n",
    "print('MSE:', mse)"
   ]
  }
 ],
 "metadata": {
  "kernelspec": {
   "display_name": "Python 3 (ipykernel)",
   "language": "python",
   "name": "python3"
  },
  "language_info": {
   "codemirror_mode": {
    "name": "ipython",
    "version": 3
   },
   "file_extension": ".py",
   "mimetype": "text/x-python",
   "name": "python",
   "nbconvert_exporter": "python",
   "pygments_lexer": "ipython3",
   "version": "3.10.10"
  }
 },
 "nbformat": 4,
 "nbformat_minor": 5
}
