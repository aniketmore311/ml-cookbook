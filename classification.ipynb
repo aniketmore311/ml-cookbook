{
 "cells": [
  {
   "cell_type": "code",
   "execution_count": 23,
   "id": "f4288409-7bf6-48aa-8fa9-2d9ffb3d1c5f",
   "metadata": {
    "tags": []
   },
   "outputs": [],
   "source": [
    "import xgboost as xgb\n",
    "from sklearn.datasets import load_breast_cancer\n",
    "from sklearn.model_selection import train_test_split\n",
    "from sklearn.metrics import accuracy_score, classification_report, confusion_matrix\n",
    "from sklearn.ensemble import GradientBoostingClassifier\n",
    "from sklearn.tree import DecisionTreeClassifier"
   ]
  },
  {
   "cell_type": "code",
   "execution_count": 24,
   "id": "9ff4d2c3-bb82-45f8-b08f-aeb0fbe41a8c",
   "metadata": {
    "tags": []
   },
   "outputs": [],
   "source": [
    "# load iris dataset\n",
    "iris = load_breast_cancer()\n",
    "X, y = iris.data, iris.target\n",
    "\n",
    "# split dataset into train and test sets\n",
    "X_train, X_test, y_train, y_test = train_test_split(X, y, test_size=0.2, random_state=42)"
   ]
  },
  {
   "cell_type": "code",
   "execution_count": 33,
   "id": "fba22b45-1010-41d8-ad5a-b6891bc96648",
   "metadata": {
    "tags": []
   },
   "outputs": [
    {
     "data": {
      "text/plain": [
       "array([[9.029e+00, 1.733e+01, 5.879e+01, 2.505e+02, 1.066e-01, 1.413e-01,\n",
       "        3.130e-01, 4.375e-02, 2.111e-01, 8.046e-02, 3.274e-01, 1.194e+00,\n",
       "        1.885e+00, 1.767e+01, 9.549e-03, 8.606e-02, 3.038e-01, 3.322e-02,\n",
       "        4.197e-02, 9.559e-03, 1.031e+01, 2.265e+01, 6.550e+01, 3.247e+02,\n",
       "        1.482e-01, 4.365e-01, 1.252e+00, 1.750e-01, 4.228e-01, 1.175e-01],\n",
       "       [2.109e+01, 2.657e+01, 1.427e+02, 1.311e+03, 1.141e-01, 2.832e-01,\n",
       "        2.487e-01, 1.496e-01, 2.395e-01, 7.398e-02, 6.298e-01, 7.629e-01,\n",
       "        4.414e+00, 8.146e+01, 4.253e-03, 4.759e-02, 3.872e-02, 1.567e-02,\n",
       "        1.798e-02, 5.295e-03, 2.668e+01, 3.348e+01, 1.765e+02, 2.089e+03,\n",
       "        1.491e-01, 7.584e-01, 6.780e-01, 2.903e-01, 4.098e-01, 1.284e-01],\n",
       "       [9.173e+00, 1.386e+01, 5.920e+01, 2.609e+02, 7.721e-02, 8.751e-02,\n",
       "        5.988e-02, 2.180e-02, 2.341e-01, 6.963e-02, 4.098e-01, 2.265e+00,\n",
       "        2.608e+00, 2.352e+01, 8.738e-03, 3.938e-02, 4.312e-02, 1.560e-02,\n",
       "        4.192e-02, 5.822e-03, 1.001e+01, 1.923e+01, 6.559e+01, 3.101e+02,\n",
       "        9.836e-02, 1.678e-01, 1.397e-01, 5.087e-02, 3.282e-01, 8.490e-02],\n",
       "       [1.065e+01, 2.522e+01, 6.801e+01, 3.470e+02, 9.657e-02, 7.234e-02,\n",
       "        2.379e-02, 1.615e-02, 1.897e-01, 6.329e-02, 2.497e-01, 1.493e+00,\n",
       "        1.497e+00, 1.664e+01, 7.189e-03, 1.035e-02, 1.081e-02, 6.245e-03,\n",
       "        2.158e-02, 2.619e-03, 1.225e+01, 3.519e+01, 7.798e+01, 4.557e+02,\n",
       "        1.499e-01, 1.398e-01, 1.125e-01, 6.136e-02, 3.409e-01, 8.147e-02],\n",
       "       [1.017e+01, 1.488e+01, 6.455e+01, 3.119e+02, 1.134e-01, 8.061e-02,\n",
       "        1.084e-02, 1.290e-02, 2.743e-01, 6.960e-02, 5.158e-01, 1.441e+00,\n",
       "        3.312e+00, 3.462e+01, 7.514e-03, 1.099e-02, 7.665e-03, 8.193e-03,\n",
       "        4.183e-02, 5.953e-03, 1.102e+01, 1.745e+01, 6.986e+01, 3.686e+02,\n",
       "        1.275e-01, 9.866e-02, 2.168e-02, 2.579e-02, 3.557e-01, 8.020e-02]])"
      ]
     },
     "execution_count": 33,
     "metadata": {},
     "output_type": "execute_result"
    }
   ],
   "source": [
    "X_train[:5]"
   ]
  },
  {
   "cell_type": "code",
   "execution_count": 34,
   "id": "fc8310fa-8f8f-4071-a5c7-de4c735aaf91",
   "metadata": {
    "tags": []
   },
   "outputs": [
    {
     "data": {
      "text/plain": [
       "array([1, 0, 1, 1, 1])"
      ]
     },
     "execution_count": 34,
     "metadata": {},
     "output_type": "execute_result"
    }
   ],
   "source": [
    "y_train[:5]"
   ]
  },
  {
   "cell_type": "code",
   "execution_count": 29,
   "id": "da59cfb3-eb70-4357-adc6-7de60db17924",
   "metadata": {
    "tags": []
   },
   "outputs": [
    {
     "name": "stdout",
     "output_type": "stream",
     "text": [
      "Accuracy: 0.9473684210526315\n",
      "              precision    recall  f1-score   support\n",
      "\n",
      "           0       0.93      0.93      0.93        43\n",
      "           1       0.96      0.96      0.96        71\n",
      "\n",
      "    accuracy                           0.95       114\n",
      "   macro avg       0.94      0.94      0.94       114\n",
      "weighted avg       0.95      0.95      0.95       114\n",
      "\n",
      "[[40  3]\n",
      " [ 3 68]]\n"
     ]
    }
   ],
   "source": [
    "# define Decision Tree classifier and set hyperparameters\n",
    "dt_clf = DecisionTreeClassifier(max_depth=5)\n",
    "\n",
    "# train the classifier on the train set\n",
    "dt_clf.fit(X_train, y_train)\n",
    "\n",
    "# predict the labels of test set\n",
    "y_pred = dt_clf.predict(X_test)\n",
    "\n",
    "# calculate accuracy score\n",
    "accuracy = accuracy_score(y_test, y_pred)\n",
    "print('Accuracy:', accuracy)\n",
    "\n",
    "report = classification_report(y_test,y_pred)\n",
    "print(report)\n",
    "\n",
    "conf_mat = confusion_matrix(y_test,y_pred)\n",
    "print(conf_mat)"
   ]
  },
  {
   "cell_type": "code",
   "execution_count": 30,
   "id": "5d795309-4f91-49ba-be4e-f715e97c417a",
   "metadata": {
    "tags": []
   },
   "outputs": [
    {
     "name": "stdout",
     "output_type": "stream",
     "text": [
      "Accuracy: 0.9649122807017544\n",
      "              precision    recall  f1-score   support\n",
      "\n",
      "           0       0.98      0.93      0.95        43\n",
      "           1       0.96      0.99      0.97        71\n",
      "\n",
      "    accuracy                           0.96       114\n",
      "   macro avg       0.97      0.96      0.96       114\n",
      "weighted avg       0.97      0.96      0.96       114\n",
      "\n",
      "[[40  3]\n",
      " [ 1 70]]\n"
     ]
    }
   ],
   "source": [
    "# define Gradient Boosting classifier and set hyperparameters\n",
    "gb_clf = GradientBoostingClassifier(n_estimators=100, learning_rate=0.1, max_depth=5)\n",
    "\n",
    "# train the classifier on the train set\n",
    "gb_clf.fit(X_train, y_train)\n",
    "\n",
    "# predict the labels of test set\n",
    "y_pred = gb_clf.predict(X_test)\n",
    "\n",
    "# calculate accuracy score\n",
    "accuracy = accuracy_score(y_test, y_pred)\n",
    "print('Accuracy:', accuracy)\n",
    "\n",
    "report = classification_report(y_test,y_pred)\n",
    "print(report)\n",
    "\n",
    "conf_mat = confusion_matrix(y_test,y_pred)\n",
    "print(conf_mat)"
   ]
  },
  {
   "cell_type": "code",
   "execution_count": 32,
   "id": "d87053bd-db67-4a4c-984c-558e7c4c477b",
   "metadata": {
    "tags": []
   },
   "outputs": [
    {
     "name": "stdout",
     "output_type": "stream",
     "text": [
      "Accuracy: 0.9649122807017544\n",
      "              precision    recall  f1-score   support\n",
      "\n",
      "           0       0.98      0.93      0.95        43\n",
      "           1       0.96      0.99      0.97        71\n",
      "\n",
      "    accuracy                           0.96       114\n",
      "   macro avg       0.97      0.96      0.96       114\n",
      "weighted avg       0.97      0.96      0.96       114\n",
      "\n",
      "[[40  3]\n",
      " [ 1 70]]\n"
     ]
    }
   ],
   "source": [
    "# define XGBoost classifier and set hyperparameters\n",
    "xgb_clf = xgb.XGBClassifier(objective='binary:logistic', max_depth=5, learning_rate=0.1)\n",
    "\n",
    "# train the classifier on the train set\n",
    "xgb_clf.fit(X_train, y_train)\n",
    "\n",
    "# calculate accuracy score\n",
    "accuracy = accuracy_score(y_test, y_pred)\n",
    "print('Accuracy:', accuracy)\n",
    "\n",
    "report = classification_report(y_test,y_pred)\n",
    "print(report)\n",
    "\n",
    "conf_mat = confusion_matrix(y_test,y_pred)\n",
    "print(conf_mat)\n"
   ]
  }
 ],
 "metadata": {
  "kernelspec": {
   "display_name": "Python 3 (ipykernel)",
   "language": "python",
   "name": "python3"
  },
  "language_info": {
   "codemirror_mode": {
    "name": "ipython",
    "version": 3
   },
   "file_extension": ".py",
   "mimetype": "text/x-python",
   "name": "python",
   "nbconvert_exporter": "python",
   "pygments_lexer": "ipython3",
   "version": "3.10.10"
  }
 },
 "nbformat": 4,
 "nbformat_minor": 5
}
